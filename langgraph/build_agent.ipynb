{
 "cells": [
  {
   "cell_type": "code",
   "execution_count": 2,
   "metadata": {},
   "outputs": [
    {
     "data": {
      "text/plain": [
       "True"
      ]
     },
     "execution_count": 2,
     "metadata": {},
     "output_type": "execute_result"
    }
   ],
   "source": [
    "from dotenv import load_dotenv\n",
    "\n",
    "import os\n",
    "\n",
    "load_dotenv()"
   ]
  },
  {
   "cell_type": "markdown",
   "metadata": {},
   "source": [
    "## Checando Tools \n",
    "\n",
    "Vamos importar as tools criadas anteriormente! "
   ]
  },
  {
   "cell_type": "code",
   "execution_count": 3,
   "metadata": {},
   "outputs": [
    {
     "name": "stderr",
     "output_type": "stream",
     "text": [
      "USER_AGENT environment variable not set, consider setting it to identify your requests.\n"
     ]
    }
   ],
   "source": [
    "from tools import *"
   ]
  },
  {
   "cell_type": "code",
   "execution_count": 4,
   "metadata": {},
   "outputs": [
    {
     "data": {
      "text/plain": [
       "['Al-Hilal x Al-Fateh', 'Nintendo Switch 2', 'João Fonseca']"
      ]
     },
     "execution_count": 4,
     "metadata": {},
     "output_type": "execute_result"
    }
   ],
   "source": [
    "trends = create_trends_tool()\n",
    "trends_text = trends.invoke({\"country\": \"brazil\", \n",
    "                             \"head\": 3})\n",
    "trends_list = to_list(trends_text)\n",
    "trends_list"
   ]
  },
  {
   "cell_type": "code",
   "execution_count": 5,
   "metadata": {},
   "outputs": [
    {
     "name": "stderr",
     "output_type": "stream",
     "text": [
      "100%|██████████| 3/3 [00:02<00:00,  1.13it/s]\n"
     ]
    }
   ],
   "source": [
    "contents_news = get_serper_with_scrapping(trends_list, k=1)"
   ]
  },
  {
   "cell_type": "code",
   "execution_count": 6,
   "metadata": {},
   "outputs": [
    {
     "data": {
      "text/plain": [
       "{'Al-Hilal x Al-Fateh': [{'title': 'Palpite Al-Hilal x Al-Fateh – Campeonato Saudita – 16/01/2025',\n",
       "   'link': 'https://br.bolavip.com/apostas/palpites/saudi-pro-league/palpite-al-hilal-x-al-fateh-campeonato-saudita-16-01-2025',\n",
       "   'snippet': 'Palpite Al-Hilal x Al-Fateh pelo Campeonato Saudita. Análise, odds e palpites especiais do Bolavip para o jogo desta quinta-feira (16).',\n",
       "   'date': 'há 10 horas',\n",
       "   'source': 'Bolavip Brasil',\n",
       "   'imageUrl': 'https://encrypted-tbn0.gstatic.com/images?q=tbn:ANd9GcT9Mz5buAL5buF-Wt-eRuvWHOkze27rB9_c4Cer19hc9wwDBix87ee59Oc&usqp=CAI&s',\n",
       "   'position': 1,\n",
       "   'content': 'Palpite Al-Hilal x Al-Fateh - Campeonato Saudita - 16/01/2025Tendências:Pablo é criticado pela NaçãoArrascaeta de saída do Fla?Novela Andreas Pereira tem vereditoSantos faz proposta por sueco Bruno Henrique ganha força no GaloJhon Arias no Palmeiras tem decisãoWanderson no Vasco tem reviravolta?BrasilBrasileirãoCopa do BrasilCampeonato PaulistaCampeonato CariocaSeleção BrasileiraAo VivoCopas ContinentaisLibertadoresSul-AmericanaFutebol InternacionalChampions LeaguePSGPremier LeagueLigue 1La LigaSérie ABundesligaOutros esportesF1NFLJogos OlímpicosApostasNotíciasCasas de apostasCódigosPalpitesOddsAplicativosGuias de apostaNOTíCIAS RECENTESFórmula 1FlamengoSantosPalmeirasCorinthiansAPOSTASGrêmioSão PauloVascoCruzeiroInternacionalAo VivoJogos de HojeNotíciasCasas de apostasCódigosPalpitesOddsAplicativosGuias de aposta+18 | Jogue com responsabilidade | Aplicam-se os Termos e Condições | Conteúdo comercial  | Princípios EditoriaisPalpitesApostasPalpites de HojeCampeonato SauditaPalpite Al-Hilal x Al-Fateh - Campeonato Saudita - 16/01/2025Palpite Al-Hilal x Al-Fateh pelo Campeonato Saudita. Análise, odds e palpites especiais do Bolavip para o jogo desta quinta-feira (16).\\nPor William TinocoAtualizada em 16/01/2025 - 11:13hs BRTAtualizada em 16/01/2025 - 11:13hs BRTJoão Cancelo divide bola com Akram Hassan em partida do Al-Hilal diante do Al-Saad. Foto: Xinhua / Alamy Stock Photo\\nHandicap Asiático -2.75 para o Al-Hilal: 1.83 SuperbetJoão Cancelo para finalizar a gol mais de 0.5 vezes: 1.61 bet365Mais de 3.5 gols: 1.57 BetanoAs odds foram verificadas no momento da redação deste artigo e estão sujeitas à mudança. Consulte as odds atualizadas no site das casas de apostas.Nesta quinta-feira (16), às 12h05 (horário de Brasília), o Al-Hilal recebe o Al-Fateh, na Kingdom Arena, para partida válida pela 15ª rodada do Campeonato Saudita. A transmissão será exclusiva do Canal GOAT.Enquanto as Ondas Azuis lideram o campeonato com a mesma quantidade de pontos que o Al-Ittihad, os visitantes são os lanternas da competição.Quer apostar em futebol? Comece criando o seu Betano cadastro.Palpites Al-Hilal x Al-Fateh do BOLAVIP\\nHandicap Asiático -2.75 para o Al-Hilal: 1.83 SuperbetJogando sob os seus domínios, as Ondas Azuis venceram todas as partidas até o momento, marcando um total de 17 gols em 6 partidas disputadas.O Al-Fateh, por outro lado, não venceu nenhuma partida sequer como visitante, e marcou apenas 3 gols visitando os seus oponentes.João Cancelo para finalizar a gol mais de 0.5 vezes: 1.61 bet365O lateral português é um dos jogadores mais importantes da equipe esboçada por Jorge Jesus, contribuindo na marcação, armação e também na finalização das jogadas. Apesar de não marcar gols, ele tem média de 0.9 chutes realizados e 0.4 na direção do gol.Mais de 3.5 gols: 1.57 BetanoLevando em consideração toda essa disparidade técnica, podemos ver uma partida de muitos gols, principalmente para os donos da casa, que precisam ampliar o seu saldo de gols para manter-se na primeira posição. A média de gols dos donos da casa é de 2.8 bolas na rede por partida.As odds foram verificadas no momento da redação deste artigo e estão sujeitas à mudança. Consulte as odds atualizadas no site das casas de apostas.\\n\\nÚltimas partidas do Al-Hilal: V-E-VAs Ondas Azuis vivem um bom momento e vêm de uma sequência invicta de 6 partidas, seu último compromisso foi na goleada aplicada diante do Al-Orobah (0 a 5).Anteriormente, empataram com o Al-Ittihad (2 a 2), além da vitória diante do Al-Raed (3 a 2).Últimas partidas do Al-Fateh: D-E-DO Al-Fateh, por sua vez, vive um péssimo momento na liga e não vence há 13 partidas, na rodada passada, foram superados pelo Al-Wehda (1 a 2).Antes disso, empataram com o Al-Shabab (2 a 2), além da derrota para o Al-Riyadh (1 a 2).NOTÍCIAS MAIS RECENTES1ApostasOdds Campeonato Mineiro 2025: favoritos, mercados e dicas2ApostasCódigo promocional Sportingbet 2025: cotas aumentadas, freebets e mais3ApostasCódigo promocional Luva.bet 2025: Descubra as ofertas4ApostasComo apostar no Campeonato Paulista: veja dicas, odds e melhores casas5ApostasBetano é confiável? Veja análise detalhada da casa de apostasReceba as últimas novidades em sua caixa de e-mailO registro implica a aceitação do Termos e CondiçõesO registro implica a aceitação do Termos e CondiçõesSIGA-NOSEDIÇÕES:|ARGENTINA|BRASIL|CHILE|COLÔMBIA|GLOBAL|MÉXICO|US ENGLISHSOBRE NÓS|STAFF|CONTATO|Escreva no Bolavip|RedGol|Futbolcentroamerica|APOSTASTermos e CondiçõesPolíticas de privacidadePolítica EditorialAd ChoicesBolavip, assim como Futbol Sites, é uma empresa pertencente à Better Collective. Todos os direitos reservados.+18 | Jogue com responsabilidade |  Aplicam-se os Termos e Condições | Conteúdo ComercialA adesão a uma das ofertas apresentadas nesta página poderá resultar em\\n        um pagamento ao Bolavip. Isso pode afetar como e onde as casas de\\n        apostas aparecem na página e a ordem em que aparecem, mas não influencia\\n        nossas avaliações.Utilizamos cookies que melhoram a sua experiência em nosso site. Todos seguem as regras da nossa Politica de Privacidade.Continuar e Fechar'}],\n",
       " 'Nintendo Switch 2': [{'title': 'Nacon já tem acessórios para o Nintendo Switch 2',\n",
       "   'link': 'https://www.adrenaline.com.br/games/nintendo/nacon-ja-tem-acessorios-para-o-nintendo-switch-2/',\n",
       "   'snippet': 'Produtos para o Switch 2 incluem bolsa de transporte, capas protetoras e até direção.',\n",
       "   'date': 'há 25 minutos',\n",
       "   'source': 'Adrenaline',\n",
       "   'imageUrl': 'https://encrypted-tbn0.gstatic.com/images?q=tbn:ANd9GcQHZVMd4qK457TnPDLyLfTKU519iiXWJs0bW9tXkINJhAz82W1yarxsOQ0&usqp=CAI&s',\n",
       "   'position': 1,\n",
       "   'content': '\\n\\n\\n\\n\\n\\n\\n\\n\\n\\nNacon já tem acessórios para o Nintendo Switch 2 - Adrenaline\\n\\n\\n\\n\\n\\n\\n\\n\\n\\n\\n\\n\\n\\n\\n\\n\\n\\n\\n\\n\\n\\n\\n\\n\\n\\n\\n\\n\\n\\n\\n\\n\\n\\n\\n\\n\\n\\n\\n\\n\\n\\n\\n\\n\\n\\n \\n\\n\\n \\n\\n\\n\\n\\n\\n\\n\\n\\n\\n\\n\\n\\n\\n\\n\\n\\n\\n\\n\\n\\n\\n\\n\\n\\n\\n\\n\\n\\n\\n\\n\\n\\n\\n\\n\\n\\n\\n\\n\\n\\n\\n\\n\\n\\n\\n\\n\\n\\n\\nAnálises\\nArtigos\\nNotícias\\nVídeos\\nProdutos\\nComparar Produtos\\nFórum\\nOfertas\\n \\n\\n\\n\\n\\n\\n\\n\\n\\n\\n\\n\\n\\n\\n\\n\\n\\n☀️\\n\\n\\n\\n\\n\\n\\n\\n\\n\\n\\n☀️\\n\\n\\n\\n\\n\\n\\n\\n\\nHome\\nAnálises\\nArtigos\\nNotícias\\nProdutos\\nOfertas\\nComparar Produtos\\nFórum\\nVídeos\\nHardware\\nVoltar\\nTudo sobre Hardware\\nAMD\\nNVIDIA\\nIntel\\n\\n\\nGames\\nVoltar\\nTudo sobre Games\\nPC Games\\nPlaystation\\nXbox\\nNintendo\\n\\n\\nMicrosoft\\nVoltar\\nTudo sobre Microsoft\\nWindows\\n\\n\\nMarcas\\nVoltar\\nApple\\nASUS\\nGoogle\\nSamsung\\n\\n\\nDownloads\\nInternet\\nPeriféricos\\nSegurança\\nSoftwares\\nTutorial\\nVariedades\\nTipos de Produtos\\nVoltar\\nAcessório\\nAll-in-one\\nÁudio\\nComputador\\nCooler\\nHeadset\\nFonte de Energia (PSU)\\nGabinete\\nGames\\nMemórias\\nMonitor\\nMouse\\nNAS\\nNotebook\\nOutros\\nPlaca de Vídeo\\nPlaca-mãe\\nProcessador\\nRealidade Virtual\\nRoteador\\nSmartphone\\nSSD e HD\\nTeclado\\nVídeo Games Portáteis\\nVídeo Games\\n\\n\\nTipos de Ofertas\\nVoltar\\nAcessórios\\nCasa Conectada\\nDiversos\\nDrones\\nFones de Ouvido\\nFontes de Energia\\nGabinetes\\nGames\\nMemórias\\nMonitores\\nNotebooks\\nNotebooks Gamer\\nOutros\\nPeriféricos\\nPlaca de Vídeo\\nPlacas-Mãe\\nProcessadores\\nSmartphones\\nSmartwatches\\nSoundbars\\nSSDS\\nTablets\\nTVS\\nVídeo Games\\n\\n\\n \\n\\n\\n\\n\\n\\n\\n\\n\\n\\n\\n\\n\\n\\n\\n\\n\\n\\n\\n\\n\\n\\n\\n\\n\\n\\n\\n\\n\\n\\n\\n\\n\\n\\n\\n\\n\\n\\n\\n\\n\\n\\t\\t\\t\\tÍndice do Artigo\\n\\t\\t\\t\\n\\n\\n\\n\\n\\n\\n\\n\\n\\n\\n\\n\\n\\n\\n\\n\\n\\n\\nHome  Tudo do Adrenaline  Games  Nintendo \\n\\r\\n\\t\\t\\t\\tJá estava preparada\\t\\t\\t\\n\\r\\n\\t\\t\\t\\tNacon já tem acessórios para o Nintendo Switch 2\\t\\t\\t\\n\\n\\n\\r\\n\\t\\t\\t\\tProdutos para o Switch 2 incluem bolsa de transporte, capas protetoras e até direção\\t\\t\\t\\n\\n\\n\\n\\n\\t\\t\\t\\t\\t\\tJoão Gabriel Nogueira\\t\\t\\n\\n\\n\\n\\n\\n\\n\\n\\n\\t\\t\\t\\t\\t16/01/2025 15:56\\t\\t\\t\\t\\n\\n\\n\\n\\n0\\n\\n\\n\\n\\n\\n\\n\\n\\n\\n\\n\\t\\t\\tCOMPARTILHAR NO WHATSAPP\\n\\t\\t\\n\\n\\n\\n\\n\\n\\n\\n\\n\\n\\n\\n\\n\\n\\n\\n\\n\\n\\n\\n\\n\\n\\n\\n\\n\\n\\n\\n\\n\\n\\n\\n\\nCréditos: Nintendo\\nPoucos momentos depois da revelação oficial do Nintendo Switch 2, a Nacon já chega como uma das primeiras a revelar uma linha de produtos para o console. Uma vez que o videogame ainda não teve seu lançamento oficial, não são acessórios devidamente licenciados. No entanto, já tem muita variedade, indo de bolsas de transporte a direções para jogos de corrida.\\nA fabricante diz que os acessórios estarão disponíveis logo no lançamento do Switch 2, sem falar de datas. O portfólio inclui bolsas de transporte em três cores diferentes, proteção em vidro temperado para a tela e até carregadores variados.\\nFonte: Nacon\\nHá também um abolsa especialmente grande, para levar o dock e base do controle junto, mostrando que a Nacon sabia as medidas do console há algum tempo.\\nChama a atenção os acessórios de direção da Nacon para o Switch 2. Existe um par de peças de plástico redondas, apenas para ajudar na pegada do controle, e tem também um acessório maior, para ser usado na mesa. Neste caso a direção comporta os dois controles ao mesmo tempo e a Nacon diz que será apreciado por “jogadores mais velhos”.\\nFonte: Nacon\\nNacon de olho em Mario Kart no Switch 2\\nConforme o trailer de revelação do Nintendo Switch 2 indica, um dos primeiros jogos do console será um novo Mario Kart. Assim, não admira que a Nacon se antecipou em lançar acessórios estilo direção para o portátil.\\nAinda não sabemos nada sobre a biblioteca de títulos de lançamento para o novo console da Nintendo, mas um jogo grande como Mario Kart provavelmente estará nas mãos da maioria dos early adopters. A Nacon provavelmente quer contar com essa empolgação para vender alguns acessórios.\\nNotícias relacionadas:\\n\\nNintendo Switch 2 é confirmado; confira as primeiras imagens e detalhes!\\nNintendo Switch 2 rodará jogos do primeiro Switch, mas com ressalvas\\nNovo Mario Kart será o primeiro jogo do Nintendo Switch 2\\n\\nTeremos mais novidades oficiais sobre o Nintendo Switch 2 em 2 de abril, durante uma Direct que a empresa já deixou marcada. É nesse dia que deveremos enfim descobrir a data de estreia do console.\\nVia: TechPowerUp\\n\\n\\n\\nCategorias\\n\\n\\n\\r\\n\\t\\t\\t\\t\\t\\t\\tGames\\t\\t\\t\\t\\t\\t\\n\\n\\n\\r\\n\\t\\t\\t\\t\\t\\t\\tNintendo\\t\\t\\t\\t\\t\\t\\n\\n\\n\\r\\n\\t\\t\\t\\t\\t\\t\\tNotícias\\t\\t\\t\\t\\t\\t\\n\\n\\n\\r\\n\\t\\t\\t\\t\\t\\t\\tPeriféricos\\t\\t\\t\\t\\t\\t\\n\\n\\n\\n\\n\\n\\n\\r\\n                        Reportar Erro neste Post\\r\\n                    \\n\\n\\n\\n\\n\\n\\n \\n\\n\\n\\t\\t\\tParticipe do grupo de ofertas do Adrenaline\\t\\t\\n\\n\\t\\t\\tConfira as principais ofertas de hardware, componentes e outros eletrônicos que encontramos pela internet. Placa de vídeo, placa-mãe, memória RAM e tudo que você precisa para montar o seu PC. Ao participar do nosso grupo, você recebe promoções diariamente e tem acesso antecipado a cupons de desconto.\\t\\t\\n\\n\\t\\t\\tEntre no grupo e aproveite as promoções\\t\\t\\n\\n\\n\\n\\n\\n\\n\\n\\n\\t\\t\\t\\t\\t\\t\\tMais Lidas\\t\\t\\t\\t\\t\\n\\n\\n\\nHoje\\n\\n\\nSemana\\n\\n\\nMês\\n\\n\\nAno\\n\\n\\n\\n\\n\\n\\n \\n1\\n\\n\\n\\n\\n0\\n\\n\\n\\n\\nPergunta cruel\\nQuanto tempo dura um SSD?\\n\\n\\n\\n\\n\\n\\n \\n2\\n\\n\\n\\nagora sim\\nNVIDIA revela detalhes de desempenho nativo das GPUs RTX 50; sem DLSS e com RT\\n\\n\\n\\n\\n\\n\\n \\n3\\n\\n\\n\\nPor tempo limitado!\\nMicrosoft sugere que atualização do Windows 10 para 11 não será para sempre gratuita\\n\\n\\n\\n\\n\\n\\n \\n4\\n\\n\\n\\nMais problemas!\\nPCs com Windows 10 estão travados em loop de atualização há alguns dias\\n\\n\\n\\n\\n\\n\\n \\n5\\n\\n\\n\\nPromoção imperdível\\nJogos de Tiro para PlayStation em oferta na Promoção de Férias\\n\\n\\n\\n\\n\\n\\n\\n\\n \\n1\\n\\n\\n\\n\\n0\\n\\n\\n\\n\\nResgate Agora!\\nCodiguin Free Fire: veja lista de janeiro de 2025 e como resgatar\\n\\n\\n\\n\\n\\n\\n \\n2\\n\\n\\n\\nPergunta cruel\\nQuanto tempo dura um SSD?\\n\\n\\n\\n\\n\\n\\n \\n3\\n\\n\\n\\nrumores\\nAmazon vaza possível data de lançamento de Pokémon Legends: Z-A\\n\\n\\n\\n\\n\\n\\n \\n4\\n\\n\\n\\nPromoção imperdível\\nJogos de Luta para PlayStation em oferta na Promoção de Férias\\n\\n\\n\\n\\n\\n\\n \\n5\\n\\n\\n\\nPromoção imperdível\\nJogos de Corrida para PlayStation em oferta na Promoção de Férias\\n\\n\\n\\n\\n\\n\\n\\n\\n \\n1\\n\\n\\n\\n\\n0\\n\\n\\n\\n\\nResgate Agora!\\nCodiguin Free Fire: veja lista de janeiro de 2025 e como resgatar\\n\\n\\n\\n\\n\\n\\n \\n2\\n\\n\\n\\nPergunta cruel\\nQuanto tempo dura um SSD?\\n\\n\\n\\n\\n\\n\\n \\n3\\n\\n\\n\\nolha o preju!\\nJogador toma prejuízo de mais de R$ 2,5 mil após comprar processador na Amazon\\n\\n\\n\\n\\n\\n\\n \\n4\\n\\n\\n\\ndomine o jogo\\nCódigos para GTA San Andreas: dicas para PC, PlayStation, Xbox e Android\\n\\n\\n\\n\\n\\n\\n \\n5\\n\\n\\n\\nPreço bom demais pra ser verdade?\\nPrimeiro SSD M.2 NVMe doméstico da Huawei aparece em loja com 1TB por US$ 32\\n\\n\\n\\n\\n\\n\\n\\n\\n \\n1\\n\\n\\n\\n\\n0\\n\\n\\n\\n\\nUm calote vem aí\\nRússia multa Google em valor que supera toda a riqueza mundial\\n\\n\\n\\n\\n\\n\\n \\n2\\n\\n\\n\\nVeja a lista de códigos\\nCodiguin Free Fire: veja lista de julho de 2024 e como resgatar\\n\\n\\n\\n\\n\\n\\n \\n3\\n\\n\\n\\nSomente no Japão\\nLacoste lança linha de roupas inspiradas em One Piece\\n\\n\\n\\n\\n\\n\\n \\n4\\n\\n\\n\\nSerá que vai valer?\\nIsenção do imposto de importação aumenta para US$ 100 em decisão da Justiça\\n\\n\\n\\n\\n\\n\\n \\n5\\n\\n\\n\\nCorra e garante seus brindes\\nCodiguin Free Fire: veja lista de setembro de 2024 e como resgatar\\n\\n\\n\\n\\n\\n\\n\\n\\n\\t\\t\\t\\t\\t\\t\\tVEJA TAMBÉM\\t\\t\\t\\t\\t\\n\\n\\n\\n\\n\\n \\n\\n\\n\\n\\n0\\n\\n\\n\\n\\n\\nde olho\\n\\nNintendo diz que emuladores não são ilegais, mas tem um porém\\n\\n\\n\\n\\n\\n\\n \\n\\n\\n\\n\\n0\\n\\n\\n\\n\\n\\nPraticamente confirmado\\n\\nNintendo Switch 2 deve trazer Joy-Cons com funcionalidade de mouse, sugere trailer de anúncio\\n\\n\\n\\n\\n\\n\\n \\n\\n\\n\\n\\n0\\n\\n\\n\\n\\n\\nSwitch 2 para o público\\n\\nNintendo Switch 2 Experience permitirá teste do console; Brasil fica de fora\\n\\n\\n\\n\\n\\n\\n \\n\\n\\n\\n\\n0\\n\\n\\n\\n\\n\\nGrande atualização\\n\\nEA Sports FC25 receberá grande atualização com mudanças na jogabilidade\\n\\n\\n\\n\\n\\n\\n\\n\\n\\n\\n\\n\\n\\n\\n\\n\\n\\t\\tTudo sobre \\t\\tNintendo\\n\\n\\n\\n\\n\\n\\n \\n\\n\\n\\n\\n0\\n\\n\\n\\n\\n\\nVem aí\\n\\nNovo Mario Kart será o primeiro jogo do Nintendo Switch 2\\n\\n\\n\\n\\n\\n\\n \\n\\n\\n\\n\\n0\\n\\n\\n\\n\\n\\nRumor\\n\\nNintendo Switch 2: confira todos os jogos especulados em rumores até agora\\n\\n\\n\\n\\n\\n\\n \\n\\n\\n\\n\\n0\\n\\n\\n\\n\\n\\nAlguns jogos não\\n\\nNintendo Switch 2 rodará jogos do primeiro Switch, mas com ressalvas\\n\\n\\n\\n\\n\\n\\n \\n\\n\\n\\n\\n0\\n\\n\\n\\n\\n\\nVeio aí!\\n\\nNintendo Switch 2 é confirmado; confira as primeiras imagens e detalhes!\\n\\n\\n\\n\\n\\n\\n \\n\\n\\n\\n\\n0\\n\\n\\n\\n\\n\\nmais desempenho\\n\\nVazam possíveis clocks de CPU e GPU do Nintendo Switch 2 [RUMOR]\\n\\n\\n\\n\\n\\n\\n \\n\\n\\n\\n\\n0\\n\\n\\n\\n\\n\\no maior mistério até agora\\n\\nNintendo Switch 2: dataminers revelam funções de chat e do botão “C” [RUMOR]\\n\\n\\n\\n\\n\\n\\n \\n\\n\\n\\n\\n0\\n\\n\\n\\n\\n\\nConfira as impressões\\n\\nVeja as notas de Donkey Kong Country Returns HD pela imprensa mundial\\n\\n\\n\\n\\n\\n\\n \\n\\n\\n\\n\\n0\\n\\n\\n\\n\\n\\nNão estava dando lucros\\n\\nPowerWash Simulator paralisa versão VR para evitar demissões em equipes\\n\\n\\n\\n\\n\\n\\n\\n\\n\\n\\n\\n\\n\\n\\n\\n\\n\\n\\n\\n\\n\\n\\n\\n\\n\\n\\n\\n\\n\\n\\n\\n\\n\\n\\n\\n\\n\\n\\n\\n\\n\\n\\n\\n\\n\\n\\n\\n\\n\\n\\n\\n\\n\\n\\n\\n\\n\\n\\n\\n\\n\\n\\n\\n\\n\\n\\n\\n\\n\\n\\n\\n\\n\\n\\n\\n\\n\\n\\n\\n\\n\\n\\n\\n\\n\\n\\n\\n\\n\\n\\n\\n\\n\\n\\n\\n\\n\\n\\n\\n\\n\\n\\n\\n\\n\\n\\n\\n\\n\\n\\n\\n\\n\\n\\n\\n\\n\\n\\n\\n\\n\\n\\nConteúdos\\n\\nAnálises\\nArtigos\\nNotícias\\nDownloads\\n\\n\\nEditorias\\n\\nItem do menu\\n\\n.\\n\\nGames\\nPC Games\\nPlaystation\\nXbox\\nNintendo\\ne-Sport\\nVariedades\\nTutorial\\n\\n\\n.\\n\\nHardware\\nAMD\\nInternet\\nNotebook\\nNVIDIA\\nSegurança\\nPeriféricos\\nIntel\\n\\n\\n\\n\\n\\n\\nVídeos\\n\\nGameplay\\nLives\\nMontando PCs\\nPC Baratinho\\nPC da Crise\\nHardware\\nPlacas de Vídeo\\nProcessadores\\n\\n\\nProdutos\\n\\nItem do menu\\n\\n.\\n\\nProcessador\\nMonitor\\nComputador\\nNotebook\\nMemórias\\nGames\\nSSD e HD\\n\\n\\n.\\n\\nAcessório\\nÁudio\\nCooler\\nGabinete\\nOutros\\nMouse\\nPlaca-mãe\\nPlaca de Vídeo\\n\\n\\n\\n\\n\\n\\n \\n\\n\\nPáginas Institucionais\\nQuem Somos\\nEquipe\\nPublicidade\\nFale Conosco\\nCondições de Uso\\nPolítica de Privacidade\\n \\n\\n\\n\\n\\n\\n\\n\\n\\n\\r\\n\\t\\t\\tAdrenaline © 2025 Todos os direitos reservados.\\t\\t\\nQuem Somos\\nEquipe\\nPublicidade\\nFale Conosco\\nCondições de Uso\\nPolítica de Privacidade\\n \\n\\n\\n\\n\\n\\n\\n\\n\\n\\n\\n\\n\\n\\n\\n\\n\\n\\n\\n\\n\\n\\n\\n\\n\\n\\n\\n\\n\\n\\n\\n\\n\\n\\n\\n\\n\\n\\n\\n\\n\\n\\n'}],\n",
       " 'João Fonseca': [{'title': 'Bia Haddad avança no Australian Open; João Fonseca é eliminado',\n",
       "   'link': 'https://www.cnnbrasil.com.br/esportes/tenis/bia-haddad-avanca-no-australian-open-joao-fonseca-e-eliminado/',\n",
       "   'snippet': 'O começo de quinta-feira (16) foi agridoce para o torcedor brasileiro que vem acompanhando o Australian Open. Isso porque Beatriz Haddad...',\n",
       "   'date': 'há 10 horas',\n",
       "   'source': 'CNN Brasil',\n",
       "   'imageUrl': 'https://encrypted-tbn0.gstatic.com/images?q=tbn:ANd9GcSmNiIn5DMqhnsq0-IqeXi_wmD7nfH7TCyv9CyF8w7z2ua555bCeE8ZlrM&usqp=CAI&s',\n",
       "   'position': 1,\n",
       "   'content': '               Bia Haddad avança no Australian Open; João Fonseca é eliminado | CNN Brasil                                                Ao Vivo    COP 30    Política    Política    Notícias     William Waack      Internacional    Nacional    Economia    Economia    Notícias     Investimentos     Mercado     Cotações     Loterias    Loterias   Mega Sena   Quina   Lotofacil   Lotomania   Duplasena   Loteria Federal   Timemania   Loteca   Dia de Sorte   Super Sete       CNN Money    Entretenimento    Saúde    Esportes    Esportes    Notícias     Olimpíadas     Futebol    Futebol   Brasileirão      Basquete     Automobilismo     Tênis     E-Sports      Tecnologia    Lifestyle    Viagem & Gastronomia    Auto    Educação    CNN Talks    Fórum CNN    Blogs CNN    Colunas CNN       Programação    Equipe CNN Brasil    Newsletters    Colunistas       Sobre a CNN    Política de Privacidade    Termos de Uso    Fale com a CNN    Distribuição do Sinal    Faça parte da Equipe CNN         Ao vivo    Política    WW    Economia    Esportes    Pop    Viagem & Gastronomia                    EsportesFutebolBrasileirãoBasqueteAutomobilismoTêniseSportsApostas            seg - sex    Apresentação     Ao vivo            AO VIVO: CNN 360º - 16/01/2025             Switch      A seguir                               Bia Haddad avança no Australian Open; João Fonseca é eliminado   Brasileiros entraram em quadra pela segunda rodada do primeiro Grand Slam da temporada    Gustavo Abraãoda CNN      16/01/2025 às 06:41 | Atualizado 16/01/2025 às 11:03           Beatriz Haddad Maia está na terceira fase do Australian Open • @australianopen      Compartilhar matéria                                    Copiar Link    O começo de quinta-feira (16) foi agridoce para o torcedor brasileiro que vem acompanhando o Australian Open. Isso porque Beatriz Haddad Maia avançou para a terceira rodada, enquanto João Fonseca foi eliminado.Curiosamente, os dois atuaram na 1573 Arena, no Melbourne Park, em Melbourne, na Austrália. Coube a eles, inclusive, fechar a sessão que contou com quatro partidas, sendo que Bia Haddad foi a primeira a entrar em quadra. Leia mais       Lenda do tênis se derrete por João Fonseca: \"Vejo o próximo Alcaraz\"      Alcaraz sobre João Fonseca: \"Estará entre os melhores do mundo em breve\"      Djokovic avança no Australian Open e crava: \"Futuro de João Fonseca é brilhante\"  Bia Haddad x Erika AndreevaApós estrear com dificuldades contra a argentina Julia Riera, a brasileira venceu a russa Erika Andreeva por 2 sets a 0 (6/2 e 6/3) sem maiores problemas em 1h20. A paulista quebrou o saque no terceiro e no sétimo games, manteve o serviço e fechou o primeiro set.O segundo set começou com a adversária abrindo 2 a 0 ao quebrar o saque no segundo game. Bia Haddad, porém, se recuperou e empatou em 2 a 2 logo depois. A russa manteve o saque na sequência, mas a brasileira embalou quatro games consecutivos e fechou o segundo e decisivo set.Bia Haddad agora vai enfrentar a russa Veronika Kudermetova na terceira fase. Quem passar para as oitavas de final vai encarar a vencedora do duelo entre a ucraniana Elina Svitolina contra a mexicana Renata Zarazua ou a italiana Jasmine Paolini. Dias e horários das próximas fases ainda serão divulgados.João Fonseca x Lorenzo SonegoDepois de conquistar o Next Gen Finals e o\\xa0Challenger 125 de Camberra, furar o qualifying e eliminar o russo Andrey Rublev na estreia em chave principal de Grand Slam, João Fonseca conheceu a primeira derrota após 14 vitórias consecutivas. O brasileiro — de apenas 18 anos — caiu em uma batalha de cinco sets diante do italiano Lorenzo Sonego ((6) 6/7, 6/3, 6/1, 3/6 e 6/3) em 3h37.O primeiro set teve ambos mantendo o serviço, levando ao tie-break. No quinto ponto, João Fonseca conseguiu o mini-break. Na sequência, manteve o saque e abriu 5 a 2. Depois, chegou a ter 6 a 3, mas Sonego embalou e empatou em 6 a 6. O italiano, porém, teve dois erros não forçados de forehand e viu o brasileiro abrir 1 a 0.O segundo set teve uma quebra do italiano sobre o brasileiro logo no terceiro game. Depois, ambos mantiveram o saque até o 5 a 3 para Sonego, que voltou a derrubar o serviço no nono game, empatando a partida em 1 a 1. O terceiro set foi o mais tranquilo para o europeu.Sonego não venceu apenas o segundo game e não teve o saque ameaçado em nenhum momento para ganhar por 6 a 1 e virar o duelo para 2 a 1. O quarto set, por outro lado, teve Fonseca quebrando logo no segundo game, mantendo o serviço, abrindo 3 a 0 e garantindo o saque para fazer 6 a 3 e empatar a partida em 2 a 2.O momento-chave do confronto foi o oitavo game do quinto set, cujos games até ali tinha sido vencido apenas pelos sacadores. O brasileiro até abriu 30 a 0, mas perdeu quatro pontos em sequência e teve o saque quebrado. O italiano manteve o serviço na sequência e fechou o set em 6 a 3 para vencer o jogo por 3 a 2.Sonego vai enfrentar o húngaro Fabian Marozsan na terceira fase. Nas oitavas de final, um deles vai encarar o vencedor da partida entre o francês Corentin Moutet contra o americano Learner Tien ou o russo Daniil Medvedev. Dias e horários das próximas fases ainda serão divulgados.  Acompanhe Esportes nas Redes Sociais     whatsapp     youtube     twitter     instagram     tiktok      Siga no google news      Tópicos    Australian Open     Bia Haddad     CNN Esportes     João Fonseca     outros esportes     Tênis             Mais Lidas de Esportes        Com gol relâmpago e polêmica, Cruzeiro e São Paulo empatam na FC Series          Copinha 2025: veja os classificados para as oitavas de final          Australian Open: número 6 do mundo perde para jovem de 19 anos e está eliminado          João Fonseca x Lorenzo Sonego: horário e onde assistir ao jogo do Australian Open          Copinha 2025: veja os resultados dos jogos desta quarta-feira (15)        Webstories Esportes              Neymar “se derrete” por atacante brasileiro campeão da Kings League               Saudita é melhor que o Francês? Neymar concorda com Cristiano Ronaldo               Foto de Gabriel Medina nas Olimpíadas de Paris ganha Oscar do esporte          Conheça as nossas Newsletter     Inscreva-se    Fique por dentro das últimas notícias, inscreva-se em nossa newsletter e não perca nenhum detalhe!     5 Fatos  Comece sua manhã atualizado com as notícias mais importantes do momento.     Negócio Fechado  Veja os assuntos que movimentaram a economia do Brasil e do mundo no dia.     PopNews  Receba os melhores conteúdos, opiniões e notícias sobre o mundo pop, duas vezes por semana.     Viagem & Gastronomia  Todas as sextas-feiras, uma coletânea com as melhores dicas de onde comer e beber pelo Brasil e no mundo.     Inscrever-se   Digite um e-mail válido. Para continuar, selecione uma ou mais newsletters. Aceite os termos para continuar.        Li e concordo com os  termos e condições .              Relacionadas         Diretora do US Open deixará o cargo após edição de 2025 do Grand Slam          ATP aumenta premiação do Challenger Tour 2025 para R$ 171 milhões          Sabalenka é eleita Jogadora do Ano da WTA          Bia Haddad detona diferença de tratamento em caso de doping de Iga Swiatek          Morre, aos 91 anos, lenda do tênis australiano e último a vencer tríplice coroa            Mais Recentes da CNN         IA recriou a voz do dublador francês de Stallone, e a filha dele desaprovou          Dólar deve permanecer como reserva global, diz indicado de Trump ao Tesouro          Fernando Diniz rebate Leila Pereira: \"Estamos trabalhando muito\"          Desemprego global deve permanecer perto da mínima histórica de 5%, diz OIT          Belo reage a vídeo de Gracyanne cantando sua música no BBB25                          CNN Brasil. Pense bem, pense CNN. CNN Ao vivo  CNN nas redes     Twitter     Facebook     YouTube     Instagram     LinkedIn     Pinterest     TikTok     WhatsApp       Mais     Equipe CNN Brasil     Grade de Programação     Blogs     Colunas     Fórum CNN     Newsletters     Mapa do site     Distribuição do Sinal           Editorias     Ao Vivo     Política     Nacional     Economia     Internacional     Entretenimento     Esportes     Saúde     Tecnologia     Viagem & Gastronomia     Auto     LifeStyle       Política     Eleições 2024     Apuração     Apuração nas Cidades     Índice CNN     Raio-X dos Candidatos     Governo Lula     Câmara dos Deputados     Senado Federal     Supremo Tribunal Federal     Políticas Públicas       Nacional     Educação     Segurança     Clima     Meio Ambiente     Auxílio Brasil     São Paulo     Rio de Janeiro     Minas Gerais     Brasília       Economia     Mercado     Investimentos     Cotações     Banco Central     Bolsa de Valores     Imposto de Renda     Finanças Pessoais     Loterias     Sustentabilidade       Internacional     Eleições EUA 2024     Guerra na Ucrânia     Guerra em Israel     Estados Unidos     Europa     Ásia     África     Oriente Médio     Rússia     China       Entretenimento     Big Brother Brasil     Celebridades     Cinema     Televisão     Streaming     Shows     Carnaval 2024     Música     Horóscopo       Esportes     Agenda de Jogos     Tabela Brasileirão Série A     Tabela Brasileirão Série B     Tabela Eliminatórias 2026     Copa Libertadores da América     Olimpíadas     Basquete     Vôlei     Automobilismo     Golf     e-Sports       Saúde     Roberto Kalil - Sinais Vitais     Alimentação     Exercícios Físicos     Vacinação     Câncer     Drogas     Obesidade       Tecnologia     Inteligência Artificial     Nasa     Ciência     Curiosidades       Viagem & Gastronomia     Viagem     Gastronomia             Sobre a CNN Brasil     Aviso Legal e Política de Privacidade     Termos de Uso     Fale com a CNN     Faça parte da Equipe CNN     © 2025 Cable News Network Brasil. Uma empresa NOVUS MÍDIA. Todos os direitos reservados.    \\n'}]}"
      ]
     },
     "execution_count": 6,
     "metadata": {},
     "output_type": "execute_result"
    }
   ],
   "source": [
    "contents_news"
   ]
  },
  {
   "cell_type": "markdown",
   "metadata": {},
   "source": [
    "## Construção do Agent\n",
    "\n",
    "Para construir o agente, vamos utilizar as funções que construimos anteriormente. A ideia central é um agente que colete quais são as tendências de pesquisa no Google Trends, pesquise essas tendências no Google Api (SerpApi), faça scrapping dos resultados e crie uma newsletter com as informações. Para a construção desses fluxos, é comum fazermos o desenho do fluxo (que pode ser representado por um grafo).\n",
    "\n",
    "<img src=\"../imgs/agent_trends.png\" width=\"800\">\n",
    "\n",
    "Os componentes do agente são:\n",
    "\n",
    "1. ``Estado``: é o objeto que irá armazenar as informações do agente ao longo do grafo.\n",
    "2. ``Nós``: são as funções que irão realizar as ações do agente.\n",
    "3. ``Transições (arestas)``: são as funções que irão decidir qual será o próximo nó a ser executado (ela pode ser condicional ou não)."
   ]
  },
  {
   "cell_type": "markdown",
   "metadata": {},
   "source": [
    "### Estado do Grafo"
   ]
  },
  {
   "cell_type": "code",
   "execution_count": 7,
   "metadata": {},
   "outputs": [],
   "source": [
    "from typing_extensions import TypedDict\n",
    "from typing import List, Dict, Any\n",
    "\n",
    "class GraphState(TypedDict):\n",
    "    \"\"\"\n",
    "    Represents the state of our graph.\n",
    "\n",
    "    Attributes:\n",
    "        country: country of the trends\n",
    "        head: number of trends to get\n",
    "        k: number of news to get\n",
    "        trends: list of trends\n",
    "        news: dict of news about each trend\n",
    "        newsletter: newsletter from the news\n",
    "    \"\"\"\n",
    "    country: str\n",
    "    head: int\n",
    "    k: int\n",
    "    trends: List[str]\n",
    "    news: dict\n",
    "    soccer_news: dict\n",
    "    subjects: List[str] # New attribute\n",
    "    favorite_team: str # New attribute\n",
    "    newsletter: str"
   ]
  },
  {
   "cell_type": "markdown",
   "metadata": {},
   "source": [
    "### Chains\n",
    "\n",
    "Aqui definimos as cadeias de execução do agente. Normalmente separamos dessa forma pra que a construção dos nós fique mais organizada."
   ]
  },
  {
   "cell_type": "code",
   "execution_count": 8,
   "metadata": {},
   "outputs": [],
   "source": [
    "\n",
    "from operator import itemgetter\n",
    "from typing import TypedDict\n",
    "\n",
    "from langchain_core.output_parsers import StrOutputParser\n",
    "from langchain_core.prompts import ChatPromptTemplate\n",
    "from langchain_core.runnables import Runnable, RunnablePassthrough\n",
    "from langchain_openai import ChatOpenAI\n",
    "# from langchain_groq import ChatGroq\n",
    "\n",
    "def format_news(news: dict) -> str:\n",
    "    \"\"\"\n",
    "    Format the news to be used in the newsletter.\n",
    "\n",
    "    Args:\n",
    "        news: dict of news about each trend\n",
    "\n",
    "    Returns:\n",
    "        str: formatted news\n",
    "    \"\"\"\n",
    "    news_str = \"\"\n",
    "    for trend, content in news.items():\n",
    "        news_str += f\"-----**{trend}**-----\\n\"\n",
    "        for i, new in enumerate(content):\n",
    "            title = new[\"title\"]\n",
    "            txt_content = new[\"content\"]\n",
    "            link = new[\"link\"]\n",
    "            \n",
    "            news_str += f\"\"\"\n",
    "            title: {title}\n",
    "            link: {link}\n",
    "            content: {txt_content}\n",
    "            \"\"\"\n",
    "        news_str += \"\\n\"\n",
    "    return news_str\n",
    "\n",
    "def write_newsletter(news: dict, \n",
    "                     provider: str=\"openai\",\n",
    "                     model_name: str=\"gpt-4o-mini\",\n",
    "                     temperature: float=0.2) -> str:\n",
    "    \"\"\"\n",
    "    Generate a newsletter from the news.\n",
    "    \n",
    "    Args:\n",
    "        news: dict of news about each trend\n",
    "        provider: provider of the language model\n",
    "        model_name: name of the language model\n",
    "        temperature: temperature of the language model\n",
    "        \n",
    "    Returns:\n",
    "        str: newsletter from the news\n",
    "    \"\"\"\n",
    "    \n",
    "    if provider == \"openai\": # Sugestão: gpt-4o-mini\n",
    "        llm = ChatOpenAI(model=model_name, temperature=temperature)\n",
    "    # elif provider == \"groq\": # Sugestão: llama-3.3-70b-versatile\n",
    "    #     llm = ChatGroq(model=model_name, temperature=temperature)\n",
    "\n",
    "    formatted_news = format_news(news)\n",
    "\n",
    "    system_prompt = \"\"\"\n",
    "    Você é um assistente pessoal que vai escrever um newsletter sobre as notícias do dia que foram extraidas do Google Trends. Sua tarefa é resumir o conteúdo das notícias e escrever um texto informativo e interessante para o usuário. \n",
    "    \n",
    "    Obs.: Sempre que possível, cite a fonte das notícias colocando o link de onde ela foi tirada.\n",
    "    \"\"\"\n",
    "\n",
    "    prompt = ChatPromptTemplate.from_messages(\n",
    "        [\n",
    "            (\"system\", system_prompt),\n",
    "            (\"human\", \"Aqui está todo o conteúdo que você vai usar para fazer a newsletter: {input}\"),\n",
    "        ]\n",
    "    )\n",
    "\n",
    "    chain = prompt | llm | StrOutputParser()\n",
    "    \n",
    "    response = chain.invoke({\"input\": formatted_news})\n",
    "    \n",
    "    return response"
   ]
  },
  {
   "cell_type": "markdown",
   "metadata": {},
   "source": [
    "## LLM Classifier Tool"
   ]
  },
  {
   "cell_type": "code",
   "execution_count": 9,
   "metadata": {},
   "outputs": [],
   "source": [
    "from pydantic import BaseModel, Field\n",
    "from typing import List\n",
    "\n",
    "from langchain_openai import ChatOpenAI\n",
    "from langchain_core.prompts import ChatPromptTemplate"
   ]
  },
  {
   "cell_type": "code",
   "execution_count": 10,
   "metadata": {},
   "outputs": [],
   "source": [
    "class GetSchema(BaseModel):\n",
    "    \"\"\"Schema de bolo\"\"\"\n",
    "    \n",
    "    resultado: str = Field(description=\"YES caso o texto fale de FUTEBOL e NO caso contrário\", examples=['YES', \n",
    "                                                                                                        'NO'])\n",
    "\n",
    "def llm_structured_extraction_classifier(model_name_openai = \"gpt-4o-2024-08-06\"):\n",
    "\n",
    "    llm_openai = ChatOpenAI(\n",
    "        model=model_name_openai,\n",
    "        temperature=0,\n",
    "    )\n",
    "\n",
    "    system_prompt = \"\"\"\n",
    "        Você é um assistente de IA muito prestativo que vai auxiliar um jornalista a classificar textos que falam especificamente sobre FUTEBOL.\n",
    "        Você precisa classificar o texto como YES ou NO, dependendo se o texto fala de futebol ou não.\n",
    "    \"\"\"\n",
    "\n",
    "    prompt = ChatPromptTemplate.from_messages(\n",
    "        [\n",
    "            (\"system\", system_prompt), \n",
    "            (\"human\", \"query do usuário: \\n\\n {query}\")\n",
    "        ]\n",
    "    )\n",
    "\n",
    "    llm_openai_with_tools_extraction = llm_openai.bind_tools([GetSchema])\n",
    "    chain_openai_structured_extraction = prompt | llm_openai_with_tools_extraction\n",
    "\n",
    "    return chain_openai_structured_extraction"
   ]
  },
  {
   "cell_type": "code",
   "execution_count": 11,
   "metadata": {},
   "outputs": [],
   "source": [
    "def classify_soccer_news(news: dict, \n",
    "                         model_name_openai = \"gpt-4o-2024-08-06\") -> dict:\n",
    "    \"\"\"\n",
    "    Classify the news as soccer or not soccer.\n",
    "    \n",
    "    Args:\n",
    "        news: dict of news about each trend\n",
    "        model_name_openai: name of the language model\n",
    "    \"\"\"\n",
    "\n",
    "    chain_openai_structured_extraction = llm_structured_extraction_classifier(model_name_openai)\n",
    "\n",
    "    soccer_news = {}\n",
    "\n",
    "    for trend, content in news.items():\n",
    "        soccer_news[trend] = []\n",
    "        for i, new in enumerate(content):\n",
    "            # title = new[\"title\"]\n",
    "            txt_content = new[\"content\"]\n",
    "            # link = new[\"link\"]\n",
    "            \n",
    "            response = chain_openai_structured_extraction.invoke({\"query\": txt_content})\n",
    "            resultado = response.tool_calls[0][\"args\"][\"resultado\"]\n",
    "\n",
    "            if resultado == \"YES\":\n",
    "                soccer_news[trend].append(new)\n",
    "    \n",
    "    filtered_soccer_news = {k: v for k, v in soccer_news.items() if v}\n",
    "    \n",
    "    return filtered_soccer_news"
   ]
  },
  {
   "cell_type": "markdown",
   "metadata": {},
   "source": [
    "## Send Email Tool"
   ]
  },
  {
   "cell_type": "code",
   "execution_count": null,
   "metadata": {},
   "outputs": [],
   "source": []
  },
  {
   "cell_type": "markdown",
   "metadata": {},
   "source": [
    "### Nodes\n",
    "\n",
    "Aqui vamos definir os nós do grafo! Como dito anteriormente, entenda os nós como sendo funções a serem executadas. Cada entrada de um nó é a saída de um nó anterior, cada execução de nó podemos ou não modificar o estado do grafo (definido anteriormente)."
   ]
  },
  {
   "cell_type": "code",
   "execution_count": 12,
   "metadata": {},
   "outputs": [],
   "source": [
    "from IPython.display import Markdown\n",
    "\n",
    "def get_trends(state: GraphState) -> dict:\n",
    "    \"\"\"\n",
    "    Get trends from Google Trends\n",
    "\n",
    "    Args:\n",
    "        state (dict): The current graph state\n",
    "\n",
    "    Returns:\n",
    "        state (dict): \n",
    "    \"\"\"\n",
    "    print(\"---GET TRENDS---\")\n",
    "    print()\n",
    "    country = state[\"country\"]\n",
    "    head = state[\"head\"]\n",
    "    subjects = state[\"subjects\"] # New attribute\n",
    "    \n",
    "    if subjects:\n",
    "        print(\"--> Assuntos adicionais: \", subjects) # New print\n",
    " \n",
    "    # Get trends\n",
    "    trends = create_trends_tool()\n",
    "    trends_text = trends.invoke({\"country\": country, \n",
    "                                 \"head\": head})\n",
    "    trends_list = to_list(trends_text)\n",
    "    \n",
    "    print(\"Trend List: \", trends_list)\n",
    "    print()\n",
    "    \n",
    "    return {\"country\": country, \n",
    "            \"head\": head, \n",
    "            \"trends\": trends_list}\n",
    "\n",
    "def get_serper_and_scrapping(state: GraphState) -> dict:\n",
    "    \"\"\"\n",
    "    Get news from SerpAPI and scrap the content\n",
    "\n",
    "    Args:\n",
    "        state (dict): The current graph state\n",
    "\n",
    "    Returns:\n",
    "        state (dict): \n",
    "    \"\"\"\n",
    "    print(\"---GET SERPER AND SCRAPPING---\")\n",
    "    print()\n",
    "    trends = state[\"trends\"]\n",
    "    k = state[\"k\"]\n",
    "    subjects = state[\"subjects\"] # New attribute\n",
    "    \n",
    "    # Get news\n",
    "    news = get_serper_with_scrapping(queries=trends + subjects, k=k)\n",
    "    keys_from_serper = news.keys()\n",
    "    \n",
    "    # Print some titles\n",
    "    for trend in keys_from_serper:\n",
    "        print(f\"---{trend}---\")\n",
    "        for i in range(min(3, len(news[trend]))):\n",
    "            print(news[trend][i][\"title\"])\n",
    "        print()\n",
    "    \n",
    "    return {\"news\": news}\n",
    "\n",
    "def filter_soccer_news(state: GraphState) -> dict:\n",
    "    \"\"\"\n",
    "    Filter soccer news from the news\n",
    "\n",
    "    Args:\n",
    "        state (dict): The current graph state\n",
    "\n",
    "    Returns:\n",
    "        state (dict): \n",
    "    \"\"\"\n",
    "    print(\"---FILTER SOCCER NEWS---\")\n",
    "    print()\n",
    "    \n",
    "    news = state[\"news\"] # Get the news from GraphState that the previous node returned\n",
    "    soccer_news = {}\n",
    "    \n",
    "    # Filter soccer news with tool\n",
    "    soccer_news = classify_soccer_news(news)\n",
    "    \n",
    "    # Print some titles\n",
    "    for trend, content in soccer_news.items():\n",
    "        print(f\"---{trend}---\")\n",
    "        for i in range(min(3, len(content))):\n",
    "            print(content[i][\"title\"])\n",
    "        print()\n",
    "    \n",
    "    return {\"soccer_news\": soccer_news}\n",
    "\n",
    "def create_newsletter(state: GraphState) -> dict:\n",
    "    \"\"\"\n",
    "    Create a newsletter from the news\n",
    "\n",
    "    Args:\n",
    "        state (dict): The current graph state\n",
    "\n",
    "    Returns:\n",
    "        state (dict): \n",
    "    \"\"\"\n",
    "\n",
    "    print(\"---CREATE NEWSLETTER---\")\n",
    "    print()\n",
    "    news = state[\"soccer_news\"]\n",
    "    \n",
    "    # Create newsletter\n",
    "    newsletter = write_newsletter(news=news, \n",
    "                                  provider=\"openai\",\n",
    "                                  model_name=\"gpt-4o-mini\",\n",
    "                                  temperature=0.2)\n",
    "    print(\"Aqui está a newsletter: \", newsletter)\n",
    "    display(Markdown(newsletter))\n",
    "    return {\"newsletter\": newsletter}"
   ]
  },
  {
   "cell_type": "markdown",
   "metadata": {},
   "source": [
    "## Conditional Nodes"
   ]
  },
  {
   "cell_type": "code",
   "execution_count": 13,
   "metadata": {},
   "outputs": [],
   "source": [
    "def search_favorite_team_news(state: GraphState) -> dict:\n",
    "    \"\"\"\n",
    "    Search for the favorite team news\n",
    "\n",
    "    Args:\n",
    "        state (dict): The current graph state\n",
    "\n",
    "    Returns:\n",
    "        state (dict): \n",
    "    \"\"\"\n",
    "    print(\"---SEARCH FAVORITE TEAM NEWS---\")\n",
    "    print()\n",
    "    # news = state[\"news\"]\n",
    "    favorite_team = state[\"favorite_team\"]\n",
    "    k = state[\"k\"]\n",
    "    \n",
    "    favorite_team_news = get_serper_with_scrapping(queries=[favorite_team], k=k)\n",
    "    keys_from_serper = favorite_team_news.keys()\n",
    "    \n",
    "    # Print some titles\n",
    "    for trend in keys_from_serper:\n",
    "        print(f\"---{trend}---\")\n",
    "        for i in range(min(3, len(favorite_team_news[trend]))):\n",
    "            print(favorite_team_news[trend][i][\"title\"])\n",
    "        print()\n",
    "    \n",
    "    return {\"soccer_news\": favorite_team_news}"
   ]
  },
  {
   "cell_type": "code",
   "execution_count": 14,
   "metadata": {},
   "outputs": [],
   "source": [
    "def has_soccer_news(state: GraphState) -> str:\n",
    "    \"\"\"\n",
    "    Check if there are soccer news\n",
    "\n",
    "    Args:\n",
    "        state (dict): The current graph state\n",
    "\n",
    "    Returns:\n",
    "        node (str): \n",
    "    \"\"\"\n",
    "    soccer_news = state[\"soccer_news\"]\n",
    "\n",
    "    return \"create_newsletter\" if soccer_news else \"search_favorite_team_news\""
   ]
  },
  {
   "cell_type": "markdown",
   "metadata": {},
   "source": [
    "## Email Node"
   ]
  },
  {
   "cell_type": "code",
   "execution_count": null,
   "metadata": {},
   "outputs": [],
   "source": [
    "from email.message import EmailMessage\n",
    "import ssl\n",
    "import smtplib\n",
    "from emails import EMAIL_SENDER, EMAIL_RECEIVERS\n",
    "\n",
    "def send_email(state: GraphState):\n",
    "    newsletter = state['newsletter']\n",
    "    email_password = os.getenv(\"EMAIL_PASSWORD\")\n",
    "\n",
    "    subject = \"Summer Nero 25 - Soccer Newsletter - Jonas\"\n",
    "\n",
    "    email_receiver = \", \".join(EMAIL_RECEIVERS)\n",
    "\n",
    "    em = EmailMessage()\n",
    "    em['From'] = EMAIL_SENDER\n",
    "    em['To'] = email_receiver\n",
    "    em['Subject'] = subject\n",
    "    em.set_content(newsletter)\n",
    "\n",
    "    context = ssl.create_default_context()\n",
    "\n",
    "    with smtplib.SMTP_SSL('smtp.gmail.com', 465, context=context) as smpt:\n",
    "        smpt.login(EMAIL_SENDER, email_password)\n",
    "        smpt.sendmail(EMAIL_SENDER, email_receiver, em.as_string())"
   ]
  },
  {
   "cell_type": "markdown",
   "metadata": {},
   "source": [
    "### Workflow\n",
    "\n",
    "Por fim, com os nós construidos e as cadeias definidas, podemos construir o workflow do agente."
   ]
  },
  {
   "cell_type": "code",
   "execution_count": 16,
   "metadata": {},
   "outputs": [],
   "source": [
    "from langgraph.graph import END, StateGraph\n",
    "\n",
    "def compile_workflow():\n",
    "    \"\"\" \n",
    "    Compiles the workflow for creating a newsletter from Google Trends.\n",
    "    \n",
    "    Returns:\n",
    "        app (StateGraph): The compiled workflow.\n",
    "    \"\"\"\n",
    "    \n",
    "    # Define the graph\n",
    "    workflow = StateGraph(GraphState)\n",
    "    \n",
    "    # Define the nodes\n",
    "    workflow.add_node(\"get_trends\", get_trends)\n",
    "    workflow.add_node(\"get_serper_and_scrapping\", get_serper_and_scrapping)\n",
    "    workflow.add_node(\"filter_soccer_news\", filter_soccer_news)\n",
    "    workflow.add_node(\"search_favorite_team_news\", search_favorite_team_news)\n",
    "    workflow.add_node(\"create_newsletter\", create_newsletter)\n",
    "    workflow.add_node(\"send_email\", send_email)\n",
    "\n",
    "    # Build graph\n",
    "    workflow.set_entry_point('get_trends')\n",
    "    workflow.add_edge(\"get_trends\", \"get_serper_and_scrapping\")\n",
    "    workflow.add_edge(\"get_serper_and_scrapping\", \"filter_soccer_news\")\n",
    "    # workflow.add_edge(\"filter_soccer_news\", \"create_newsletter\")\n",
    "    \n",
    "    workflow.add_conditional_edges(\n",
    "        \"filter_soccer_news\",\n",
    "        has_soccer_news,\n",
    "        {\n",
    "            \"search_favorite_team_news\": \"search_favorite_team_news\",\n",
    "            \"create_newsletter\": \"create_newsletter\"\n",
    "        },\n",
    "    )\n",
    "\n",
    "    workflow.add_edge(\"search_favorite_team_news\", \"create_newsletter\")\n",
    "    \n",
    "    workflow.add_edge(\"create_newsletter\", \"send_email\")\n",
    "    workflow.add_edge(\"send_email\", END)\n",
    "    # workflow.set_finish_point(\"create_newsletter\")\n",
    "\n",
    "    # Compile\n",
    "    app = workflow.compile()\n",
    "    return app"
   ]
  },
  {
   "cell_type": "code",
   "execution_count": 17,
   "metadata": {},
   "outputs": [],
   "source": [
    "app = compile_workflow()"
   ]
  },
  {
   "cell_type": "code",
   "execution_count": 18,
   "metadata": {},
   "outputs": [
    {
     "data": {
      "image/jpeg": "[encoded data removed]",
      "text/plain": [
       "<IPython.core.display.Image object>"
      ]
     },
     "metadata": {},
     "output_type": "display_data"
    }
   ],
   "source": [
    "from IPython.display import Image, display\n",
    "from langchain_core.runnables.graph import CurveStyle, MermaidDrawMethod, NodeStyles\n",
    "\n",
    "display(\n",
    "    Image(\n",
    "        app.get_graph().draw_mermaid_png(\n",
    "            draw_method=MermaidDrawMethod.API,\n",
    "        )\n",
    "    )\n",
    ")"
   ]
  },
  {
   "cell_type": "code",
   "execution_count": 19,
   "metadata": {},
   "outputs": [
    {
     "name": "stdout",
     "output_type": "stream",
     "text": [
      "---GET TRENDS---\n",
      "\n",
      "Trend List:  ['Al-Hilal x Al-Fateh']\n",
      "\n",
      "---GET SERPER AND SCRAPPING---\n",
      "\n"
     ]
    },
    {
     "name": "stderr",
     "output_type": "stream",
     "text": [
      "100%|██████████| 1/1 [00:02<00:00,  2.42s/it]\n"
     ]
    },
    {
     "name": "stdout",
     "output_type": "stream",
     "text": [
      "---Al-Hilal x Al-Fateh---\n",
      "Palpite Al-Hilal x Al-Fateh – Campeonato Saudita – 16/01/2025\n",
      "Al-Hilal goleia o Al-Fateh pelo Campeonato Saudita com três gols de Marcos Leonardo\n",
      "Neymar joga hoje? Saiba o panorama para Al-Hilal x Al-Fateh\n",
      "\n",
      "---FILTER SOCCER NEWS---\n",
      "\n",
      "---Al-Hilal x Al-Fateh---\n",
      "Palpite Al-Hilal x Al-Fateh – Campeonato Saudita – 16/01/2025\n",
      "Al-Hilal goleia o Al-Fateh pelo Campeonato Saudita com três gols de Marcos Leonardo\n",
      "Neymar joga hoje? Saiba o panorama para Al-Hilal x Al-Fateh\n",
      "\n",
      "---CREATE NEWSLETTER---\n",
      "\n",
      "Aqui está a newsletter:  **Newsletter do Dia - 16 de Janeiro de 2025**\n",
      "\n",
      "Olá, leitores! Hoje trazemos as principais notícias do mundo do futebol, com destaque para o Campeonato Saudita, onde o Al-Hilal teve uma atuação impressionante.\n",
      "\n",
      "### Al-Hilal Goleia Al-Fateh\n",
      "\n",
      "O Al-Hilal não teve piedade e goleou o Al-Fateh por 9 a 0 em uma partida que ficará marcada na história do Campeonato Saudita. O destaque da partida foi o atacante Marcos Leonardo, que marcou três gols. Outros jogadores que contribuíram para a vitória foram Koulibaly, Renan Lodi, Milinkovic-Savic, Al-Hamdan, Malcom e um gol contra de Al Abdulwahed. Com essa vitória, o Al-Hilal se mantém firme na liderança da competição, agora com 40 pontos. Para mais detalhes, acesse a matéria completa [aqui](https://ge.globo.com/futebol/futebol-internacional/noticia/2025/01/16/al-hilal-goleia-o-al-fateh-pelo-campeonato-saudita-com-tres-gols-de-marcos-leonardo.ghtml).\n",
      "\n",
      "### Palpite para Al-Hilal x Al-Fateh\n",
      "\n",
      "Antes da goleada, o jogo foi analisado por especialistas que previam uma vitória contundente do Al-Hilal, dada a disparidade entre as equipes. As odds indicavam um handicap asiático de -2.75 para o Al-Hilal, e a expectativa era de mais de 3.5 gols na partida. O Al-Hilal, jogando em casa, tinha um histórico impressionante, vencendo todas as partidas em seu estádio até então. Confira a análise completa e as odds [neste link](https://br.bolavip.com/apostas/palpites/saudi-pro-league/palpite-al-hilal-x-al-fateh-campeonato-saudita-16-01-2025).\n",
      "\n",
      "### Neymar Fora de Combate\n",
      "\n",
      "Em meio a toda a ação, a situação de Neymar continua a ser um tópico de interesse. O atacante brasileiro não participou da partida contra o Al-Fateh e não deve voltar a jogar pelo Al-Hilal tão cedo, devido a lesões recorrentes. Desde sua última aparição em novembro de 2024, Neymar não foi escalado e está fora dos planos para o Campeonato Saudita, podendo retornar apenas em fevereiro para a Champions League Saudita. Para mais informações sobre o estado de Neymar, clique [aqui](https://www.lance.com.br/futebol-internacional/neymar-joga-hoje-saiba-o-panorama-para-al-hilal-x-al-fateh.html).\n",
      "\n",
      "Fique ligado para mais atualizações e análises sobre o mundo do futebol!\n"
     ]
    },
    {
     "data": {
      "text/markdown": [
       "**Newsletter do Dia - 16 de Janeiro de 2025**\n",
       "\n",
       "Olá, leitores! Hoje trazemos as principais notícias do mundo do futebol, com destaque para o Campeonato Saudita, onde o Al-Hilal teve uma atuação impressionante.\n",
       "\n",
       "### Al-Hilal Goleia Al-Fateh\n",
       "\n",
       "O Al-Hilal não teve piedade e goleou o Al-Fateh por 9 a 0 em uma partida que ficará marcada na história do Campeonato Saudita. O destaque da partida foi o atacante Marcos Leonardo, que marcou três gols. Outros jogadores que contribuíram para a vitória foram Koulibaly, Renan Lodi, Milinkovic-Savic, Al-Hamdan, Malcom e um gol contra de Al Abdulwahed. Com essa vitória, o Al-Hilal se mantém firme na liderança da competição, agora com 40 pontos. Para mais detalhes, acesse a matéria completa [aqui](https://ge.globo.com/futebol/futebol-internacional/noticia/2025/01/16/al-hilal-goleia-o-al-fateh-pelo-campeonato-saudita-com-tres-gols-de-marcos-leonardo.ghtml).\n",
       "\n",
       "### Palpite para Al-Hilal x Al-Fateh\n",
       "\n",
       "Antes da goleada, o jogo foi analisado por especialistas que previam uma vitória contundente do Al-Hilal, dada a disparidade entre as equipes. As odds indicavam um handicap asiático de -2.75 para o Al-Hilal, e a expectativa era de mais de 3.5 gols na partida. O Al-Hilal, jogando em casa, tinha um histórico impressionante, vencendo todas as partidas em seu estádio até então. Confira a análise completa e as odds [neste link](https://br.bolavip.com/apostas/palpites/saudi-pro-league/palpite-al-hilal-x-al-fateh-campeonato-saudita-16-01-2025).\n",
       "\n",
       "### Neymar Fora de Combate\n",
       "\n",
       "Em meio a toda a ação, a situação de Neymar continua a ser um tópico de interesse. O atacante brasileiro não participou da partida contra o Al-Fateh e não deve voltar a jogar pelo Al-Hilal tão cedo, devido a lesões recorrentes. Desde sua última aparição em novembro de 2024, Neymar não foi escalado e está fora dos planos para o Campeonato Saudita, podendo retornar apenas em fevereiro para a Champions League Saudita. Para mais informações sobre o estado de Neymar, clique [aqui](https://www.lance.com.br/futebol-internacional/neymar-joga-hoje-saiba-o-panorama-para-al-hilal-x-al-fateh.html).\n",
       "\n",
       "Fique ligado para mais atualizações e análises sobre o mundo do futebol!"
      ],
      "text/plain": [
       "<IPython.core.display.Markdown object>"
      ]
     },
     "metadata": {},
     "output_type": "display_data"
    }
   ],
   "source": [
    "response = app.invoke({\"country\": \"brazil\",\n",
    "                       \"head\": 1,\n",
    "                       \"subjects\": [],\n",
    "                       \"favorite_team\": \"Flamengo\",\n",
    "                       \"k\": 3})"
   ]
  },
  {
   "cell_type": "markdown",
   "metadata": {},
   "source": [
    "## Conclusão:\n",
    "\n",
    "Com essa aplicação simples é possível ver como podemos construir um agente que coleta informações de tendências de pesquisa e cria uma newsletter. Para além dessa ideia, é possível construir aplicações mais robustas, que envolvem ``novos nós, novas cadeias, novos estados ou até transições condicionais``. \n",
    "\n",
    "### Tarefa de casa:\n",
    "\n",
    "1. Crie um novo nó que envie a newsletter por email. Note que para isso você precisa incluir uma lista de emails que irão receber a newsletter. (``Dica:`` Faça a lista de emails ser um parâmetro na entrada do grafo, assim você pode passar a lista de emails como parâmetro para o nó que envia a newsletter).\n",
    "\n",
    "2. Calcule quanto custa em média uma newsletter. (``Dica:`` Use o LangSmith).\n",
    "\n",
    "3. Construa um classificador que classifica as notícias de acordo com o assunto. Especificamente, classifique se a notícia fala sobre futebol ou não (``binário``). No fim, faça a newsletter somente baseada em assuntos de futebol (seu classificador será um filtro).\n",
    "\n",
    "4. Crie um ``conditional_edge`` que verifica se existe noticia ou não de futebol. Caso não tenha noticias de futebol no Google Trends, crie um nó que vai pesquisar sobre seu time de futebol favorito e adicione na newsletter apenas os ultimos assuntos dele.\n",
    "\n",
    "5. Crie uma ``API`` (com ``FastAPI``, por exemplo), que contenha um endpoint que recebe:\n",
    "\n",
    "```python\n",
    "{\"country\": \"brazil\",\n",
    " \"head\": 5,\n",
    " \"k\": 3}\n",
    " ```\n",
    "\n",
    "E devolve o estado do grafo."
   ]
  },
  {
   "cell_type": "markdown",
   "metadata": {},
   "source": []
  }
 ],
 "metadata": {
  "kernelspec": {
   "display_name": "Python 3",
   "language": "python",
   "name": "python3"
  },
  "language_info": {
   "codemirror_mode": {
    "name": "ipython",
    "version": 3
   },
   "file_extension": ".py",
   "mimetype": "text/x-python",
   "name": "python",
   "nbconvert_exporter": "python",
   "pygments_lexer": "ipython3",
   "version": "3.12.2"
  }
 },
 "nbformat": 4,
 "nbformat_minor": 2
}
