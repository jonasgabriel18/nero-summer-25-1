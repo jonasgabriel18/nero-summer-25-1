{
 "cells": [
  {
   "cell_type": "code",
   "execution_count": 2,
   "metadata": {},
   "outputs": [
    {
     "data": {
      "text/plain": [
       "True"
      ]
     },
     "execution_count": 2,
     "metadata": {},
     "output_type": "execute_result"
    }
   ],
   "source": [
    "from dotenv import load_dotenv\n",
    "\n",
    "import os\n",
    "\n",
    "load_dotenv()"
   ]
  },
  {
   "cell_type": "markdown",
   "metadata": {},
   "source": [
    "## Importando agente"
   ]
  },
  {
   "cell_type": "code",
   "execution_count": 10,
   "metadata": {},
   "outputs": [],
   "source": [
    "from newsletter_trends.workflow import compile_workflow"
   ]
  },
  {
   "cell_type": "code",
   "execution_count": 11,
   "metadata": {},
   "outputs": [],
   "source": [
    "app = compile_workflow()"
   ]
  },
  {
   "cell_type": "code",
   "execution_count": 12,
   "metadata": {},
   "outputs": [
    {
     "name": "stdout",
     "output_type": "stream",
     "text": [
      "---GET TRENDS---\n",
      "\n",
      "Trend List:  ['Beatriz Haddad Maia', 'Cessar-fogo Gaza', 'AZUL4', 'Jogo joao Fonseca', 'Matheus Pereira']\n",
      "\n",
      "---GET SERPER AND SCRAPPING---\n",
      "\n"
     ]
    },
    {
     "name": "stderr",
     "output_type": "stream",
     "text": [
      "100%|██████████| 5/5 [00:07<00:00,  1.52s/it]\n"
     ]
    },
    {
     "name": "stdout",
     "output_type": "stream",
     "text": [
      "---Beatriz Haddad Maia---\n",
      "João Fonseca e Bia Haddad têm destinos diferentes no Australian Open\n",
      "Bia Haddad joga o suficiente e avança à terceira rodada no Australian Open\n",
      "Bia Haddad avança no Australian Open; João Fonseca é eliminado\n",
      "\n",
      "---Cessar-fogo Gaza---\n",
      "Israel ataca a Faixa de Gaza depois de aprovar acordo de cessar-fogo\n",
      "Cessar-fogo em Gaza: as perguntas ainda sem resposta sobre o acordo, que teve votação adiada em Israel\n",
      "Gabinete de Israel adia votação sobre cessar-fogo em Gaza\n",
      "\n",
      "---AZUL4---\n",
      "Gol (GOLL4) e Azul (AZUL4) assinam acordo visando fusão\n",
      "Ações de Azul (AZUL4) e Gol (GOLL4) disparam com acordo para avaliar fusão\n",
      "Mercado financeiro hoje: Azul (AZUL4) e Gol (GOLL4) chegam a acordo sobre fusão, Pagbank e Stone têm cortes de recomendação; veja destaques\n",
      "\n",
      "---Jogo joao Fonseca---\n",
      "Quando é o próximo jogo de João Fonseca? Veja onde assistir ao vivo, dia e horário\n",
      "Australian Open: João Fonseca perde para Sonego em batalha de quase 4h\n",
      "João Fonseca começa com tudo, mas sofre com dia inspirado de italiano e dá adeus ao Australian Open\n",
      "\n",
      "---Matheus Pereira---\n",
      "Cruzeiro x São Paulo: veja o gol de Matheus Pereira com 30 segundos de jogo\n",
      "Matheus Pereira admite propostas no Cruzeiro: \"Não sei o que vai acontecer amanhã\"\n",
      "Conheça Matheus Pereira, do Cruzeiro, convocado por Dorival para Seleção\n",
      "\n",
      "---CREATE NEWSLETTER---\n",
      "\n",
      "Aqui está a newsletter:  **Newsletter do Dia - 16 de Janeiro de 2025**\n",
      "\n",
      "**1. Tênis: Australian Open em Foco**\n",
      "O Australian Open trouxe emoções contrastantes para os torcedores brasileiros. Beatriz Haddad Maia avançou para a terceira rodada ao vencer a russa Erika Andreeva com parciais de 6/2 e 6/3. A brasileira, atual número 14 do mundo, agora se prepara para enfrentar a americana Madison Keys. Por outro lado, João Fonseca, de apenas 18 anos, teve uma performance admirável, mas foi eliminado em uma batalha de cinco sets contra o italiano Lorenzo Sonego, com parciais de 6/7, 6/3, 6/1, 3/6 e 6/3. Apesar da derrota, Fonseca impressionou com sua garra e já se projeta para o futuro no circuito.\n",
      "\n",
      "**2. Conflito em Gaza: Cessar-fogo em Questão**\n",
      "A situação em Gaza continua tensa, mesmo após um acordo de cessar-fogo entre Israel e Hamas. Na última quinta-feira, Israel lançou ataques que resultaram na morte de pelo menos 81 palestinos, o maior número de vítimas em um único dia em mais de uma semana. O acordo, que visa encerrar 15 meses de conflito, ainda precisa da aprovação do gabinete israelense, cuja votação foi adiada. A incerteza sobre a implementação do cessar-fogo levanta preocupações sobre a continuidade da violência na região.\n",
      "\n",
      "**3. Fusões no Setor Aéreo: Gol e Azul**\n",
      "As companhias aéreas Gol e Azul assinaram um memorando de entendimento para explorar uma fusão que poderia criar uma gigante do setor aéreo brasileiro, controlando 60% do mercado. A fusão depende da conclusão da recuperação judicial da Gol, prevista para abril. As ações de ambas as empresas dispararam após o anúncio, refletindo a expectativa positiva do mercado em relação às sinergias que podem ser capturadas com a união.\n",
      "\n",
      "**4. Futebol: Matheus Pereira em Alta**\n",
      "No futebol, Matheus Pereira, do Cruzeiro, se destacou ao marcar um gol logo no início da partida contra o São Paulo, em um jogo válido pela FC Series. O jogador, que tem contrato até junho de 2026, admitiu ter recebido propostas de outros clubes, mas se mostrou focado em sua atuação no Cruzeiro. A diretoria do clube sinalizou que não pretende liberar jogadores titulares neste momento.\n",
      "\n",
      "**5. Próximos Passos de João Fonseca**\n",
      "Após sua eliminação no Australian Open, João Fonseca já se prepara para os próximos desafios no circuito, incluindo torneios na França e a Copa Davis. O jovem tenista, que já conquistou a atenção de grandes nomes do esporte, promete continuar sua trajetória ascendente no tênis.\n",
      "\n",
      "Fique ligado para mais atualizações e notícias relevantes!\n"
     ]
    },
    {
     "data": {
      "text/markdown": [
       "**Newsletter do Dia - 16 de Janeiro de 2025**\n",
       "\n",
       "**1. Tênis: Australian Open em Foco**\n",
       "O Australian Open trouxe emoções contrastantes para os torcedores brasileiros. Beatriz Haddad Maia avançou para a terceira rodada ao vencer a russa Erika Andreeva com parciais de 6/2 e 6/3. A brasileira, atual número 14 do mundo, agora se prepara para enfrentar a americana Madison Keys. Por outro lado, João Fonseca, de apenas 18 anos, teve uma performance admirável, mas foi eliminado em uma batalha de cinco sets contra o italiano Lorenzo Sonego, com parciais de 6/7, 6/3, 6/1, 3/6 e 6/3. Apesar da derrota, Fonseca impressionou com sua garra e já se projeta para o futuro no circuito.\n",
       "\n",
       "**2. Conflito em Gaza: Cessar-fogo em Questão**\n",
       "A situação em Gaza continua tensa, mesmo após um acordo de cessar-fogo entre Israel e Hamas. Na última quinta-feira, Israel lançou ataques que resultaram na morte de pelo menos 81 palestinos, o maior número de vítimas em um único dia em mais de uma semana. O acordo, que visa encerrar 15 meses de conflito, ainda precisa da aprovação do gabinete israelense, cuja votação foi adiada. A incerteza sobre a implementação do cessar-fogo levanta preocupações sobre a continuidade da violência na região.\n",
       "\n",
       "**3. Fusões no Setor Aéreo: Gol e Azul**\n",
       "As companhias aéreas Gol e Azul assinaram um memorando de entendimento para explorar uma fusão que poderia criar uma gigante do setor aéreo brasileiro, controlando 60% do mercado. A fusão depende da conclusão da recuperação judicial da Gol, prevista para abril. As ações de ambas as empresas dispararam após o anúncio, refletindo a expectativa positiva do mercado em relação às sinergias que podem ser capturadas com a união.\n",
       "\n",
       "**4. Futebol: Matheus Pereira em Alta**\n",
       "No futebol, Matheus Pereira, do Cruzeiro, se destacou ao marcar um gol logo no início da partida contra o São Paulo, em um jogo válido pela FC Series. O jogador, que tem contrato até junho de 2026, admitiu ter recebido propostas de outros clubes, mas se mostrou focado em sua atuação no Cruzeiro. A diretoria do clube sinalizou que não pretende liberar jogadores titulares neste momento.\n",
       "\n",
       "**5. Próximos Passos de João Fonseca**\n",
       "Após sua eliminação no Australian Open, João Fonseca já se prepara para os próximos desafios no circuito, incluindo torneios na França e a Copa Davis. O jovem tenista, que já conquistou a atenção de grandes nomes do esporte, promete continuar sua trajetória ascendente no tênis.\n",
       "\n",
       "Fique ligado para mais atualizações e notícias relevantes!"
      ],
      "text/plain": [
       "<IPython.core.display.Markdown object>"
      ]
     },
     "metadata": {},
     "output_type": "display_data"
    }
   ],
   "source": [
    "response = app.invoke({\"country\": \"brazil\",\n",
    "                       \"head\": 5,\n",
    "                       \"k\": 3})"
   ]
  },
  {
   "cell_type": "code",
   "execution_count": 13,
   "metadata": {},
   "outputs": [
    {
     "data": {
      "text/plain": [
       "dict_keys(['country', 'head', 'k', 'trends', 'news', 'newsletter'])"
      ]
     },
     "execution_count": 13,
     "metadata": {},
     "output_type": "execute_result"
    }
   ],
   "source": [
    "response.keys()"
   ]
  },
  {
   "cell_type": "code",
   "execution_count": 14,
   "metadata": {},
   "outputs": [
    {
     "data": {
      "text/markdown": [
       "**Newsletter do Dia - 16 de Janeiro de 2025**\n",
       "\n",
       "**1. Tênis: Australian Open em Foco**\n",
       "O Australian Open trouxe emoções contrastantes para os torcedores brasileiros. Beatriz Haddad Maia avançou para a terceira rodada ao vencer a russa Erika Andreeva com parciais de 6/2 e 6/3. A brasileira, atual número 14 do mundo, agora se prepara para enfrentar a americana Madison Keys. Por outro lado, João Fonseca, de apenas 18 anos, teve uma performance admirável, mas foi eliminado em uma batalha de cinco sets contra o italiano Lorenzo Sonego, com parciais de 6/7, 6/3, 6/1, 3/6 e 6/3. Apesar da derrota, Fonseca impressionou com sua garra e já se projeta para o futuro no circuito.\n",
       "\n",
       "**2. Conflito em Gaza: Cessar-fogo em Questão**\n",
       "A situação em Gaza continua tensa, mesmo após um acordo de cessar-fogo entre Israel e Hamas. Na última quinta-feira, Israel lançou ataques que resultaram na morte de pelo menos 81 palestinos, o maior número de vítimas em um único dia em mais de uma semana. O acordo, que visa encerrar 15 meses de conflito, ainda precisa da aprovação do gabinete israelense, cuja votação foi adiada. A incerteza sobre a implementação do cessar-fogo levanta preocupações sobre a continuidade da violência na região.\n",
       "\n",
       "**3. Fusões no Setor Aéreo: Gol e Azul**\n",
       "As companhias aéreas Gol e Azul assinaram um memorando de entendimento para explorar uma fusão que poderia criar uma gigante do setor aéreo brasileiro, controlando 60% do mercado. A fusão depende da conclusão da recuperação judicial da Gol, prevista para abril. As ações de ambas as empresas dispararam após o anúncio, refletindo a expectativa positiva do mercado em relação às sinergias que podem ser capturadas com a união.\n",
       "\n",
       "**4. Futebol: Matheus Pereira em Alta**\n",
       "No futebol, Matheus Pereira, do Cruzeiro, se destacou ao marcar um gol logo no início da partida contra o São Paulo, em um jogo válido pela FC Series. O jogador, que tem contrato até junho de 2026, admitiu ter recebido propostas de outros clubes, mas se mostrou focado em sua atuação no Cruzeiro. A diretoria do clube sinalizou que não pretende liberar jogadores titulares neste momento.\n",
       "\n",
       "**5. Próximos Passos de João Fonseca**\n",
       "Após sua eliminação no Australian Open, João Fonseca já se prepara para os próximos desafios no circuito, incluindo torneios na França e a Copa Davis. O jovem tenista, que já conquistou a atenção de grandes nomes do esporte, promete continuar sua trajetória ascendente no tênis.\n",
       "\n",
       "Fique ligado para mais atualizações e notícias relevantes!"
      ],
      "text/plain": [
       "<IPython.core.display.Markdown object>"
      ]
     },
     "metadata": {},
     "output_type": "display_data"
    }
   ],
   "source": [
    "from IPython.display import Markdown\n",
    "\n",
    "newsletter = response[\"newsletter\"]\n",
    "display(Markdown(newsletter))"
   ]
  },
  {
   "cell_type": "code",
   "execution_count": null,
   "metadata": {},
   "outputs": [],
   "source": []
  }
 ],
 "metadata": {
  "kernelspec": {
   "display_name": "env",
   "language": "python",
   "name": "python3"
  },
  "language_info": {
   "codemirror_mode": {
    "name": "ipython",
    "version": 3
   },
   "file_extension": ".py",
   "mimetype": "text/x-python",
   "name": "python",
   "nbconvert_exporter": "python",
   "pygments_lexer": "ipython3",
   "version": "3.10.11"
  }
 },
 "nbformat": 4,
 "nbformat_minor": 2
}
